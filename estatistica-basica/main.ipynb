{
 "cells": [
  {
   "cell_type": "markdown",
   "metadata": {},
   "source": [
    "### Capítulo 2"
   ]
  },
  {
   "cell_type": "code",
   "execution_count": 1,
   "metadata": {},
   "outputs": [],
   "source": [
    "import pandas as pd\n",
    "import numpy as np\n",
    "import matplotlib.pyplot as plt"
   ]
  },
  {
   "cell_type": "markdown",
   "metadata": {},
   "source": [
    "#### 2. Usando os dados da Tabela 2.1, construa a distribuição de freqüências das variáveis:\n",
    "(a) Estado civil.\n",
    "(b) Região de procedência.\n",
    "(c) Número de filhos dos empregados casados.\n",
    "(d) Idade."
   ]
  },
  {
   "cell_type": "code",
   "execution_count": 2,
   "metadata": {},
   "outputs": [],
   "source": [
    "tabela21 = pd.read_excel('dados/Dados_EB.xls', sheet_name='Tabela 2.1')"
   ]
  },
  {
   "cell_type": "code",
   "execution_count": 17,
   "metadata": {},
   "outputs": [
    {
     "data": {
      "text/html": [
       "<div>\n",
       "<style scoped>\n",
       "    .dataframe tbody tr th:only-of-type {\n",
       "        vertical-align: middle;\n",
       "    }\n",
       "\n",
       "    .dataframe tbody tr th {\n",
       "        vertical-align: top;\n",
       "    }\n",
       "\n",
       "    .dataframe thead th {\n",
       "        text-align: right;\n",
       "    }\n",
       "</style>\n",
       "<table border=\"1\" class=\"dataframe\">\n",
       "  <thead>\n",
       "    <tr style=\"text-align: right;\">\n",
       "      <th></th>\n",
       "      <th>N</th>\n",
       "      <th>Estado Civil</th>\n",
       "      <th>Grau de Instrução</th>\n",
       "      <th>N de Filhos</th>\n",
       "      <th>Salario (x Sal Min)</th>\n",
       "      <th>Anos</th>\n",
       "      <th>Meses</th>\n",
       "      <th>Região de Procedência</th>\n",
       "    </tr>\n",
       "  </thead>\n",
       "  <tbody>\n",
       "    <tr>\n",
       "      <th>1</th>\n",
       "      <td>1</td>\n",
       "      <td>solteiro</td>\n",
       "      <td>ensino fundamental</td>\n",
       "      <td>0</td>\n",
       "      <td>4.00</td>\n",
       "      <td>26</td>\n",
       "      <td>3</td>\n",
       "      <td>interior</td>\n",
       "    </tr>\n",
       "    <tr>\n",
       "      <th>2</th>\n",
       "      <td>2</td>\n",
       "      <td>casado</td>\n",
       "      <td>ensino fundamental</td>\n",
       "      <td>1</td>\n",
       "      <td>4.56</td>\n",
       "      <td>32</td>\n",
       "      <td>10</td>\n",
       "      <td>capital</td>\n",
       "    </tr>\n",
       "    <tr>\n",
       "      <th>3</th>\n",
       "      <td>3</td>\n",
       "      <td>casado</td>\n",
       "      <td>ensino fundamental</td>\n",
       "      <td>2</td>\n",
       "      <td>5.25</td>\n",
       "      <td>36</td>\n",
       "      <td>5</td>\n",
       "      <td>capital</td>\n",
       "    </tr>\n",
       "    <tr>\n",
       "      <th>4</th>\n",
       "      <td>4</td>\n",
       "      <td>solteiro</td>\n",
       "      <td>ensino médio</td>\n",
       "      <td>0</td>\n",
       "      <td>5.73</td>\n",
       "      <td>20</td>\n",
       "      <td>10</td>\n",
       "      <td>outra</td>\n",
       "    </tr>\n",
       "    <tr>\n",
       "      <th>5</th>\n",
       "      <td>5</td>\n",
       "      <td>solteiro</td>\n",
       "      <td>ensino fundamental</td>\n",
       "      <td>0</td>\n",
       "      <td>6.26</td>\n",
       "      <td>40</td>\n",
       "      <td>7</td>\n",
       "      <td>outra</td>\n",
       "    </tr>\n",
       "  </tbody>\n",
       "</table>\n",
       "</div>"
      ],
      "text/plain": [
       "0  N Estado Civil   Grau de Instrução  N de Filhos  Salario (x Sal Min)  Anos  \\\n",
       "1  1     solteiro  ensino fundamental            0                 4.00    26   \n",
       "2  2       casado  ensino fundamental            1                 4.56    32   \n",
       "3  3       casado  ensino fundamental            2                 5.25    36   \n",
       "4  4     solteiro        ensino médio            0                 5.73    20   \n",
       "5  5     solteiro  ensino fundamental            0                 6.26    40   \n",
       "\n",
       "0  Meses Região de Procedência  \n",
       "1      3              interior  \n",
       "2     10               capital  \n",
       "3      5               capital  \n",
       "4     10                 outra  \n",
       "5      7                 outra  "
      ]
     },
     "execution_count": 17,
     "metadata": {},
     "output_type": "execute_result"
    }
   ],
   "source": [
    "tabela21.head()"
   ]
  },
  {
   "cell_type": "code",
   "execution_count": 10,
   "metadata": {},
   "outputs": [],
   "source": [
    "def tabela_frequencia(tabela, coluna): \n",
    "    '''\n",
    "    Função que gera tabela de distribuição de frequências para a coluna de uma tabela desejada.\n",
    "    '''\n",
    "    freq_abs = tabela[f'{coluna}'].value_counts()\n",
    "    freq_rel = tabela[f'{coluna}'].value_counts(normalize=True)*100\n",
    "    dist_freq = pd.DataFrame({'Frequência Absoluta': freq_abs, 'Frequência Relativa': round(freq_rel,2)})\n",
    "    return dist_freq"
   ]
  },
  {
   "cell_type": "code",
   "execution_count": 14,
   "metadata": {},
   "outputs": [
    {
     "data": {
      "text/html": [
       "<div>\n",
       "<style scoped>\n",
       "    .dataframe tbody tr th:only-of-type {\n",
       "        vertical-align: middle;\n",
       "    }\n",
       "\n",
       "    .dataframe tbody tr th {\n",
       "        vertical-align: top;\n",
       "    }\n",
       "\n",
       "    .dataframe thead th {\n",
       "        text-align: right;\n",
       "    }\n",
       "</style>\n",
       "<table border=\"1\" class=\"dataframe\">\n",
       "  <thead>\n",
       "    <tr style=\"text-align: right;\">\n",
       "      <th></th>\n",
       "      <th>Frequência Absoluta</th>\n",
       "      <th>Frequência Relativa</th>\n",
       "    </tr>\n",
       "  </thead>\n",
       "  <tbody>\n",
       "    <tr>\n",
       "      <th>outra</th>\n",
       "      <td>13</td>\n",
       "      <td>36.11</td>\n",
       "    </tr>\n",
       "    <tr>\n",
       "      <th>interior</th>\n",
       "      <td>12</td>\n",
       "      <td>33.33</td>\n",
       "    </tr>\n",
       "    <tr>\n",
       "      <th>capital</th>\n",
       "      <td>11</td>\n",
       "      <td>30.56</td>\n",
       "    </tr>\n",
       "  </tbody>\n",
       "</table>\n",
       "</div>"
      ],
      "text/plain": [
       "          Frequência Absoluta  Frequência Relativa\n",
       "outra                      13                36.11\n",
       "interior                   12                33.33\n",
       "capital                    11                30.56"
      ]
     },
     "execution_count": 14,
     "metadata": {},
     "output_type": "execute_result"
    }
   ],
   "source": [
    "tabela_frequencia(tabela21, 'Região de Procedência')"
   ]
  },
  {
   "cell_type": "markdown",
   "metadata": {},
   "source": [
    "##### Estado Civil"
   ]
  },
  {
   "cell_type": "code",
   "execution_count": 15,
   "metadata": {},
   "outputs": [
    {
     "data": {
      "text/html": [
       "<div>\n",
       "<style scoped>\n",
       "    .dataframe tbody tr th:only-of-type {\n",
       "        vertical-align: middle;\n",
       "    }\n",
       "\n",
       "    .dataframe tbody tr th {\n",
       "        vertical-align: top;\n",
       "    }\n",
       "\n",
       "    .dataframe thead th {\n",
       "        text-align: right;\n",
       "    }\n",
       "</style>\n",
       "<table border=\"1\" class=\"dataframe\">\n",
       "  <thead>\n",
       "    <tr style=\"text-align: right;\">\n",
       "      <th></th>\n",
       "      <th>Frequência Absoluta</th>\n",
       "      <th>Frequência Relativa</th>\n",
       "    </tr>\n",
       "  </thead>\n",
       "  <tbody>\n",
       "    <tr>\n",
       "      <th>casado</th>\n",
       "      <td>20</td>\n",
       "      <td>55.56</td>\n",
       "    </tr>\n",
       "    <tr>\n",
       "      <th>solteiro</th>\n",
       "      <td>16</td>\n",
       "      <td>44.44</td>\n",
       "    </tr>\n",
       "  </tbody>\n",
       "</table>\n",
       "</div>"
      ],
      "text/plain": [
       "          Frequência Absoluta  Frequência Relativa\n",
       "casado                     20                55.56\n",
       "solteiro                   16                44.44"
      ]
     },
     "execution_count": 15,
     "metadata": {},
     "output_type": "execute_result"
    }
   ],
   "source": [
    "tabela_frequencia(tabela21, 'Estado Civil')"
   ]
  },
  {
   "cell_type": "markdown",
   "metadata": {},
   "source": [
    "##### Região de Procedência"
   ]
  },
  {
   "cell_type": "code",
   "execution_count": null,
   "metadata": {},
   "outputs": [
    {
     "data": {
      "text/html": [
       "<div>\n",
       "<style scoped>\n",
       "    .dataframe tbody tr th:only-of-type {\n",
       "        vertical-align: middle;\n",
       "    }\n",
       "\n",
       "    .dataframe tbody tr th {\n",
       "        vertical-align: top;\n",
       "    }\n",
       "\n",
       "    .dataframe thead th {\n",
       "        text-align: right;\n",
       "    }\n",
       "</style>\n",
       "<table border=\"1\" class=\"dataframe\">\n",
       "  <thead>\n",
       "    <tr style=\"text-align: right;\">\n",
       "      <th></th>\n",
       "      <th>Frequência Absoluta</th>\n",
       "      <th>Frequência Relativa</th>\n",
       "    </tr>\n",
       "  </thead>\n",
       "  <tbody>\n",
       "    <tr>\n",
       "      <th>outra</th>\n",
       "      <td>13</td>\n",
       "      <td>36.11</td>\n",
       "    </tr>\n",
       "    <tr>\n",
       "      <th>interior</th>\n",
       "      <td>12</td>\n",
       "      <td>33.33</td>\n",
       "    </tr>\n",
       "    <tr>\n",
       "      <th>capital</th>\n",
       "      <td>11</td>\n",
       "      <td>30.56</td>\n",
       "    </tr>\n",
       "  </tbody>\n",
       "</table>\n",
       "</div>"
      ],
      "text/plain": [
       "          Frequência Absoluta  Frequência Relativa\n",
       "outra                      13                36.11\n",
       "interior                   12                33.33\n",
       "capital                    11                30.56"
      ]
     },
     "metadata": {},
     "output_type": "display_data"
    }
   ],
   "source": [
    "tabela_frequencia(tabela21, 'Região de Procedência')"
   ]
  },
  {
   "cell_type": "markdown",
   "metadata": {},
   "source": [
    "##### Número de filho dos empregados"
   ]
  },
  {
   "cell_type": "code",
   "execution_count": 22,
   "metadata": {},
   "outputs": [
    {
     "name": "stdout",
     "output_type": "stream",
     "text": [
      "0\n",
      "5\n"
     ]
    }
   ],
   "source": [
    "print(tabela21['N de Filhos'].min())\n",
    "print(tabela21['N de Filhos'].max())"
   ]
  },
  {
   "cell_type": "code",
   "execution_count": 23,
   "metadata": {},
   "outputs": [],
   "source": [
    "classes = [0, 2, 4, 5]"
   ]
  },
  {
   "cell_type": "code",
   "execution_count": 24,
   "metadata": {},
   "outputs": [],
   "source": [
    "labels = ['0 a 2', '3 a 4', '5 ou mais']"
   ]
  },
  {
   "cell_type": "code",
   "execution_count": 31,
   "metadata": {},
   "outputs": [
    {
     "data": {
      "text/plain": [
       "0 a 2        88.888889\n",
       "3 a 4         8.333333\n",
       "5 ou mais     2.777778\n",
       "Name: N de Filhos, dtype: float64"
      ]
     },
     "execution_count": 31,
     "metadata": {},
     "output_type": "execute_result"
    }
   ],
   "source": [
    "frqeuencia = pd.value_counts(pd.cut(x=tabela21['N de Filhos'], bins=classes, labels=labels, include_lowest=True))\n",
    "percentual = pd.value_counts(pd.cut(x = tabela21['N de Filhos'],bins = classes, labels = labels,include_lowest = True), normalize = True)*100\n",
    "percentual\n",
    "\n",
    "# terminar a tabela de frequencia para valores quantitativos e inserir na função\n",
    "# função de deve criar tabela conforme tipo da coluna\n",
    "# lembrando que pode existir qualitavas ordenadinais\n",
    "# criar argumento ordinal (sim ou não) para identificar e tabel apropriada"
   ]
  }
 ],
 "metadata": {
  "kernelspec": {
   "display_name": "Python 3.9.12 ('econometria')",
   "language": "python",
   "name": "python3"
  },
  "language_info": {
   "codemirror_mode": {
    "name": "ipython",
    "version": 3
   },
   "file_extension": ".py",
   "mimetype": "text/x-python",
   "name": "python",
   "nbconvert_exporter": "python",
   "pygments_lexer": "ipython3",
   "version": "3.9.12"
  },
  "orig_nbformat": 4,
  "vscode": {
   "interpreter": {
    "hash": "2d77b586cfa25f3cadafc2a7d9d2ffb1689fffb3b5bbb5f99a0b413248eba82d"
   }
  }
 },
 "nbformat": 4,
 "nbformat_minor": 2
}
