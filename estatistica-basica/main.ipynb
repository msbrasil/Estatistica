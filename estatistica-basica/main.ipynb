{
 "cells": [
  {
   "cell_type": "markdown",
   "metadata": {},
   "source": [
    "### Capítulo 2"
   ]
  },
  {
   "cell_type": "code",
   "execution_count": 3,
   "metadata": {},
   "outputs": [],
   "source": [
    "import pandas as pd\n",
    "import numpy as np\n",
    "import matplotlib.pyplot as plt"
   ]
  },
  {
   "cell_type": "markdown",
   "metadata": {},
   "source": [
    "#### 2. Usando os dados da Tabela 2.1, construa a distribuição de freqüências das variáveis:\n",
    "(a) Estado civil.\n",
    "(b) Região de procedência.\n",
    "(c) Número de filhos dos empregados casados.\n",
    "(d) Idade."
   ]
  },
  {
   "cell_type": "code",
   "execution_count": 38,
   "metadata": {},
   "outputs": [],
   "source": [
    "tabela21 = pd.read_excel('dados/Dados_EB.xls', sheet_name='Tabela 2.1')"
   ]
  },
  {
   "cell_type": "code",
   "execution_count": null,
   "metadata": {},
   "outputs": [],
   "source": [
    "# criar função que gera tabela de distribuição de frequências\n",
    "def tabela_frequencia(tabela, coluna, intervalo): #alguma coisa assim? \n",
    "    # usar link de referência nos favoritos"
   ]
  },
  {
   "cell_type": "code",
   "execution_count": 39,
   "metadata": {},
   "outputs": [],
   "source": [
    "tabela21.columns = tabela21.iloc[0]\n",
    "tabela21 = tabela21.drop(tabela21.index[0])\n",
    "tabela21.fillna(0, inplace=True)"
   ]
  },
  {
   "cell_type": "markdown",
   "metadata": {},
   "source": [
    "##### Estado Civil"
   ]
  },
  {
   "cell_type": "code",
   "execution_count": 92,
   "metadata": {},
   "outputs": [
    {
     "data": {
      "text/html": [
       "<div>\n",
       "<style scoped>\n",
       "    .dataframe tbody tr th:only-of-type {\n",
       "        vertical-align: middle;\n",
       "    }\n",
       "\n",
       "    .dataframe tbody tr th {\n",
       "        vertical-align: top;\n",
       "    }\n",
       "\n",
       "    .dataframe thead th {\n",
       "        text-align: right;\n",
       "    }\n",
       "</style>\n",
       "<table border=\"1\" class=\"dataframe\">\n",
       "  <thead>\n",
       "    <tr style=\"text-align: right;\">\n",
       "      <th></th>\n",
       "      <th>Estado Civil</th>\n",
       "      <th>Frequência</th>\n",
       "      <th>Proporção</th>\n",
       "      <th>Percentual</th>\n",
       "    </tr>\n",
       "  </thead>\n",
       "  <tbody>\n",
       "    <tr>\n",
       "      <th>0</th>\n",
       "      <td>casado</td>\n",
       "      <td>20</td>\n",
       "      <td>0.56</td>\n",
       "      <td>56.0</td>\n",
       "    </tr>\n",
       "    <tr>\n",
       "      <th>1</th>\n",
       "      <td>solteiro</td>\n",
       "      <td>16</td>\n",
       "      <td>0.44</td>\n",
       "      <td>44.0</td>\n",
       "    </tr>\n",
       "    <tr>\n",
       "      <th>2</th>\n",
       "      <td>Total</td>\n",
       "      <td>36</td>\n",
       "      <td>1.00</td>\n",
       "      <td>100.0</td>\n",
       "    </tr>\n",
       "  </tbody>\n",
       "</table>\n",
       "</div>"
      ],
      "text/plain": [
       "  Estado Civil  Frequência  Proporção  Percentual\n",
       "0       casado          20       0.56        56.0\n",
       "1     solteiro          16       0.44        44.0\n",
       "2        Total          36       1.00       100.0"
      ]
     },
     "execution_count": 92,
     "metadata": {},
     "output_type": "execute_result"
    }
   ],
   "source": [
    "estado_civil = tabela21.groupby(['Estado Civil'])[['Estado Civil']].count()\n",
    "estado_civil.columns = ['Frequência']\n",
    "estado_civil.reset_index(inplace=True)\n",
    "estado_civil['Proporção'] = round(estado_civil['Frequência'] / estado_civil['Frequência'].sum(), 2)\n",
    "estado_civil['Percentual'] = round(estado_civil['Proporção'] * 100, 2)\n",
    "estado_civil = estado_civil.append({'Estado Civil': 'Total', 'Frequência': estado_civil['Frequência'].sum(), 'Proporção': estado_civil['Proporção'].sum(), 'Percentual': estado_civil['Percentual'].sum()}, ignore_index=True)\n",
    "estado_civil"
   ]
  },
  {
   "cell_type": "markdown",
   "metadata": {},
   "source": [
    "##### Região de Procedência"
   ]
  },
  {
   "cell_type": "code",
   "execution_count": 93,
   "metadata": {},
   "outputs": [
    {
     "data": {
      "text/html": [
       "<div>\n",
       "<style scoped>\n",
       "    .dataframe tbody tr th:only-of-type {\n",
       "        vertical-align: middle;\n",
       "    }\n",
       "\n",
       "    .dataframe tbody tr th {\n",
       "        vertical-align: top;\n",
       "    }\n",
       "\n",
       "    .dataframe thead th {\n",
       "        text-align: right;\n",
       "    }\n",
       "</style>\n",
       "<table border=\"1\" class=\"dataframe\">\n",
       "  <thead>\n",
       "    <tr style=\"text-align: right;\">\n",
       "      <th></th>\n",
       "      <th>Região de Procedência</th>\n",
       "      <th>Frequência</th>\n",
       "      <th>Proporção</th>\n",
       "      <th>Percentual</th>\n",
       "    </tr>\n",
       "  </thead>\n",
       "  <tbody>\n",
       "    <tr>\n",
       "      <th>0</th>\n",
       "      <td>capital</td>\n",
       "      <td>11</td>\n",
       "      <td>0.31</td>\n",
       "      <td>31.0</td>\n",
       "    </tr>\n",
       "    <tr>\n",
       "      <th>1</th>\n",
       "      <td>interior</td>\n",
       "      <td>12</td>\n",
       "      <td>0.33</td>\n",
       "      <td>33.0</td>\n",
       "    </tr>\n",
       "    <tr>\n",
       "      <th>2</th>\n",
       "      <td>outra</td>\n",
       "      <td>13</td>\n",
       "      <td>0.36</td>\n",
       "      <td>36.0</td>\n",
       "    </tr>\n",
       "    <tr>\n",
       "      <th>3</th>\n",
       "      <td>Total</td>\n",
       "      <td>36</td>\n",
       "      <td>1.00</td>\n",
       "      <td>100.0</td>\n",
       "    </tr>\n",
       "  </tbody>\n",
       "</table>\n",
       "</div>"
      ],
      "text/plain": [
       "  Região de Procedência  Frequência  Proporção  Percentual\n",
       "0               capital          11       0.31        31.0\n",
       "1              interior          12       0.33        33.0\n",
       "2                 outra          13       0.36        36.0\n",
       "3                 Total          36       1.00       100.0"
      ]
     },
     "execution_count": 93,
     "metadata": {},
     "output_type": "execute_result"
    }
   ],
   "source": [
    "regiao = tabela21.groupby(['Região de Procedência'])[['Região de Procedência']].count()\n",
    "regiao.columns = ['Frequência']\n",
    "regiao.reset_index(inplace=True)\n",
    "regiao['Proporção'] = round(regiao['Frequência'] / regiao['Frequência'].sum(), 2)\n",
    "regiao['Percentual'] = round(regiao['Proporção'] * 100, 2)\n",
    "regiao = regiao.append({'Região de Procedência': 'Total', 'Frequência': regiao['Frequência'].sum(), 'Proporção': regiao['Proporção'].sum(), 'Percentual': regiao['Percentual'].sum()}, ignore_index=True)\n",
    "regiao"
   ]
  },
  {
   "cell_type": "markdown",
   "metadata": {},
   "source": [
    "##### Número de filho dos empregados"
   ]
  },
  {
   "cell_type": "code",
   "execution_count": null,
   "metadata": {},
   "outputs": [
    {
     "data": {
      "text/html": [
       "<div>\n",
       "<style scoped>\n",
       "    .dataframe tbody tr th:only-of-type {\n",
       "        vertical-align: middle;\n",
       "    }\n",
       "\n",
       "    .dataframe tbody tr th {\n",
       "        vertical-align: top;\n",
       "    }\n",
       "\n",
       "    .dataframe thead th {\n",
       "        text-align: right;\n",
       "    }\n",
       "</style>\n",
       "<table border=\"1\" class=\"dataframe\">\n",
       "  <thead>\n",
       "    <tr style=\"text-align: right;\">\n",
       "      <th></th>\n",
       "      <th>Região de Procedência</th>\n",
       "      <th>Frequência</th>\n",
       "      <th>Proporção</th>\n",
       "      <th>Percentual</th>\n",
       "    </tr>\n",
       "  </thead>\n",
       "  <tbody>\n",
       "    <tr>\n",
       "      <th>0</th>\n",
       "      <td>capital</td>\n",
       "      <td>11</td>\n",
       "      <td>0.31</td>\n",
       "      <td>31.0</td>\n",
       "    </tr>\n",
       "    <tr>\n",
       "      <th>1</th>\n",
       "      <td>interior</td>\n",
       "      <td>12</td>\n",
       "      <td>0.33</td>\n",
       "      <td>33.0</td>\n",
       "    </tr>\n",
       "    <tr>\n",
       "      <th>2</th>\n",
       "      <td>outra</td>\n",
       "      <td>13</td>\n",
       "      <td>0.36</td>\n",
       "      <td>36.0</td>\n",
       "    </tr>\n",
       "    <tr>\n",
       "      <th>3</th>\n",
       "      <td>Total</td>\n",
       "      <td>36</td>\n",
       "      <td>1.00</td>\n",
       "      <td>100.0</td>\n",
       "    </tr>\n",
       "  </tbody>\n",
       "</table>\n",
       "</div>"
      ],
      "text/plain": [
       "  Região de Procedência  Frequência  Proporção  Percentual\n",
       "0               capital          11       0.31        31.0\n",
       "1              interior          12       0.33        33.0\n",
       "2                 outra          13       0.36        36.0\n",
       "3                 Total          36       1.00       100.0"
      ]
     },
     "metadata": {},
     "output_type": "display_data"
    }
   ],
   "source": [
    "filhos = tabela21.groupby(['Região de Procedência'])[['Região de Procedência']].count()\n",
    "regiao.columns = ['Frequência']\n",
    "regiao.reset_index(inplace=True)\n",
    "regiao['Proporção'] = round(regiao['Frequência'] / regiao['Frequência'].sum(), 2)\n",
    "regiao['Percentual'] = round(regiao['Proporção'] * 100, 2)\n",
    "regiao = regiao.append({'Região de Procedência': 'Total', 'Frequência': regiao['Frequência'].sum(), 'Proporção': regiao['Proporção'].sum(), 'Percentual': regiao['Percentual'].sum()}, ignore_index=True)\n",
    "regiao"
   ]
  }
 ],
 "metadata": {
  "kernelspec": {
   "display_name": "Python 3.9.12 ('econometria')",
   "language": "python",
   "name": "python3"
  },
  "language_info": {
   "codemirror_mode": {
    "name": "ipython",
    "version": 3
   },
   "file_extension": ".py",
   "mimetype": "text/x-python",
   "name": "python",
   "nbconvert_exporter": "python",
   "pygments_lexer": "ipython3",
   "version": "3.9.12"
  },
  "orig_nbformat": 4,
  "vscode": {
   "interpreter": {
    "hash": "2d77b586cfa25f3cadafc2a7d9d2ffb1689fffb3b5bbb5f99a0b413248eba82d"
   }
  }
 },
 "nbformat": 4,
 "nbformat_minor": 2
}
