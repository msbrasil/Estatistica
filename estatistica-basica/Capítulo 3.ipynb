{
 "cells": [
  {
   "cell_type": "markdown",
   "metadata": {},
   "source": [
    "### Capítulo 3 - Medidas-Resumo"
   ]
  },
  {
   "cell_type": "code",
   "execution_count": 2,
   "metadata": {},
   "outputs": [],
   "source": [
    "import pandas as pd\n",
    "import numpy as np\n",
    "import matplotlib.pyplot as plt\n",
    "import seaborn as sns"
   ]
  },
  {
   "cell_type": "code",
   "execution_count": 8,
   "metadata": {},
   "outputs": [],
   "source": [
    "def tabela_frequencia(tabela, coluna): \n",
    "    '''\n",
    "    Função que gera tabela de distribuição de frequências para a coluna de uma tabela desejada.\n",
    "    '''\n",
    "    if type(tabela[f'{coluna}'][0]) == str:\n",
    "        freq_abs = tabela[f'{coluna}'].value_counts()\n",
    "        freq_rel = tabela[f'{coluna}'].value_counts(normalize=True)*100\n",
    "        freq_acum = freq_rel.cumsum()\n",
    "        dist_freq = pd.DataFrame({'Frequência Absoluta': freq_abs, 'Frequência Relativa': round(freq_rel,2), 'Frequência Acumulada': round(freq_acum,2)})\n",
    "        return dist_freq\n",
    "    else:\n",
    "        k = round(1 + np.log2(len(tabela[f'{coluna}']))) # número de classes\n",
    "        lsup = tabela[f'{coluna}'].max() # limite superior\n",
    "        linf = tabela[f'{coluna}'].min() # limite inferior\n",
    "        amplitude = lsup - linf # amplitude\n",
    "        intervalo = amplitude/k # intervalo\n",
    "        classes = []\n",
    "        for i in range(k):\n",
    "            classes.append(round(linf + i*intervalo, 2))\n",
    "\n",
    "        labels = []\n",
    "        for i in range(len(classes)-1):\n",
    "            labels.append(f'{classes[i]} a {classes[i+1]}')\n",
    "\n",
    "        frequencia = pd.value_counts(pd.cut(x=tabela[f'{coluna}'], bins=classes, labels=labels, include_lowest=True), sort=False)\n",
    "        percentual = pd.value_counts(pd.cut(x = tabela[f'{coluna}'],bins = classes, labels = labels,include_lowest = True), normalize = True, sort=False)*100\n",
    "        freq_acum = percentual.cumsum()\n",
    "\n",
    "        dist_freq = pd.DataFrame({'Frequência Absoluta': frequencia, 'Frequência Relativa': round(percentual,2), 'Frequência Acumulada': round(freq_acum,2)})\n",
    "        return dist_freq"
   ]
  },
  {
   "cell_type": "markdown",
   "metadata": {},
   "source": [
    "##### Questão 1) Com base na tabela do livro, responda:\n",
    "- a) Qual a média de erros por página?\n",
    "- b) Qual a mediana de erros por página?\n",
    "- c) Qual o desvio padrão de erros por página?\n",
    "- d) Fazer representação gráfica para a distribuição\n",
    "- e) Se o livro tivesse  500 páginas, qual o total de erros esperados?"
   ]
  },
  {
   "cell_type": "code",
   "execution_count": 6,
   "metadata": {},
   "outputs": [],
   "source": [
    "conjunto = [0]*25 + [1]*20 + [2]*3 + [3]*1 + [4]*1"
   ]
  },
  {
   "cell_type": "markdown",
   "metadata": {},
   "source": [
    "- a) Média"
   ]
  },
  {
   "cell_type": "code",
   "execution_count": 13,
   "metadata": {},
   "outputs": [
    {
     "data": {
      "text/plain": [
       "0.66"
      ]
     },
     "execution_count": 13,
     "metadata": {},
     "output_type": "execute_result"
    }
   ],
   "source": [
    "np.mean(conjunto)"
   ]
  },
  {
   "cell_type": "markdown",
   "metadata": {},
   "source": [
    "- b) Mediana"
   ]
  },
  {
   "cell_type": "code",
   "execution_count": 14,
   "metadata": {},
   "outputs": [
    {
     "data": {
      "text/plain": [
       "0.66"
      ]
     },
     "execution_count": 14,
     "metadata": {},
     "output_type": "execute_result"
    }
   ],
   "source": [
    "np.mean(conjunto)"
   ]
  },
  {
   "cell_type": "markdown",
   "metadata": {},
   "source": [
    "- C) Desvio Padrão"
   ]
  },
  {
   "cell_type": "code",
   "execution_count": 15,
   "metadata": {},
   "outputs": [
    {
     "data": {
      "text/plain": [
       "0.8392854103342915"
      ]
     },
     "execution_count": 15,
     "metadata": {},
     "output_type": "execute_result"
    }
   ],
   "source": [
    "np.std(conjunto)"
   ]
  },
  {
   "cell_type": "markdown",
   "metadata": {},
   "source": [
    "- d) Gráfico"
   ]
  },
  {
   "cell_type": "code",
   "execution_count": 20,
   "metadata": {},
   "outputs": [
    {
     "data": {
      "image/png": "[encoded data removed]",
      "text/plain": [
       "<Figure size 640x480 with 1 Axes>"
      ]
     },
     "metadata": {},
     "output_type": "display_data"
    }
   ],
   "source": [
    "sns.histplot(conjunto)\n",
    "plt.show()"
   ]
  },
  {
   "cell_type": "markdown",
   "metadata": {},
   "source": [
    "##### Questão 2) Através do conjunto de taxas, calcular média, mediana e desvio padrão"
   ]
  },
  {
   "cell_type": "code",
   "execution_count": 1,
   "metadata": {},
   "outputs": [],
   "source": [
    "juros = [2.59, 2.64, 2.60, 2.62, 2.57, 2.55, 2.61, 2.50, 2.63, 2.64]"
   ]
  },
  {
   "cell_type": "code",
   "execution_count": 3,
   "metadata": {},
   "outputs": [
    {
     "name": "stdout",
     "output_type": "stream",
     "text": [
      "Média = 2.5949999999999998\n",
      "Mediana = 2.605\n",
      "Desvio-padrão = 0.042249260348555265\n"
     ]
    }
   ],
   "source": [
    "print(f'Média = {np.mean(juros)}')\n",
    "print(f'Mediana = {np.median(juros)}')\n",
    "print(f'Desvio-padrão = {np.std(juros)}')"
   ]
  },
  {
   "cell_type": "markdown",
   "metadata": {},
   "source": [
    "##### Questão 3) Através do conjunto, a) construir histograma com 5 intervalos e b) determinar uma medida de posição central e uma de dispersão"
   ]
  },
  {
   "cell_type": "code",
   "execution_count": 8,
   "metadata": {},
   "outputs": [],
   "source": [
    "casas = [2, 2, 3, 10, 13, 14, 15, 15, 16, 16,\n",
    "        18, 18, 20, 21, 22, 22, 23, 24, 25, 25,\n",
    "        26, 27, 29, 29, 30, 32, 36, 42, 44, 45,\n",
    "        45, 46, 48, 52, 58, 59, 61, 61, 61, 65,\n",
    "        66, 66, 68, 75, 78, 80, 89, 90, 92, 97]"
   ]
  },
  {
   "cell_type": "code",
   "execution_count": 9,
   "metadata": {},
   "outputs": [
    {
     "data": {
      "image/png": "[encoded data removed]",
      "text/plain": [
       "<Figure size 640x480 with 1 Axes>"
      ]
     },
     "metadata": {},
     "output_type": "display_data"
    }
   ],
   "source": [
    "sns.histplot(casas, bins=5)\n",
    "plt.show()"
   ]
  },
  {
   "cell_type": "code",
   "execution_count": 10,
   "metadata": {},
   "outputs": [
    {
     "name": "stdout",
     "output_type": "stream",
     "text": [
      "40.42\n",
      "25.814794207973073\n"
     ]
    }
   ],
   "source": [
    "print(np.mean(casas))\n",
    "print(np.std(casas))"
   ]
  },
  {
   "cell_type": "code",
   "execution_count": null,
   "metadata": {},
   "outputs": [],
   "source": []
  },
  {
   "cell_type": "code",
   "execution_count": null,
   "metadata": {},
   "outputs": [],
   "source": []
  }
 ],
 "metadata": {
  "kernelspec": {
   "display_name": "Python 3.9.7 ('base')",
   "language": "python",
   "name": "python3"
  },
  "language_info": {
   "codemirror_mode": {
    "name": "ipython",
    "version": 3
   },
   "file_extension": ".py",
   "mimetype": "text/x-python",
   "name": "python",
   "nbconvert_exporter": "python",
   "pygments_lexer": "ipython3",
   "version": "3.9.7"
  },
  "orig_nbformat": 4,
  "vscode": {
   "interpreter": {
    "hash": "08a400adeb6830322ec40344573c657b15a9eb2eef6e1c7ab2815bda50c98d3e"
   }
  }
 },
 "nbformat": 4,
 "nbformat_minor": 2
}
