{
 "cells": [
  {
   "cell_type": "markdown",
   "metadata": {},
   "source": [
    "### Capítulo 3 - Medidas-Resumo"
   ]
  },
  {
   "cell_type": "code",
   "execution_count": 2,
   "metadata": {},
   "outputs": [],
   "source": [
    "import pandas as pd\n",
    "import numpy as np\n",
    "import matplotlib.pyplot as plt\n",
    "import seaborn as sns"
   ]
  },
  {
   "cell_type": "code",
   "execution_count": 2,
   "metadata": {},
   "outputs": [],
   "source": [
    "def tabela_frequencia(tabela, coluna): \n",
    "    '''\n",
    "    Função que gera tabela de distribuição de frequências para a coluna de uma tabela desejada.\n",
    "    '''\n",
    "    if type(tabela[f'{coluna}'][0]) == str:\n",
    "        freq_abs = tabela[f'{coluna}'].value_counts()\n",
    "        freq_rel = tabela[f'{coluna}'].value_counts(normalize=True)*100\n",
    "        freq_acum = freq_rel.cumsum()\n",
    "        dist_freq = pd.DataFrame({'Frequência Absoluta': freq_abs, 'Frequência Relativa': round(freq_rel,2), 'Frequência Acumulada': round(freq_acum,2)})\n",
    "        return dist_freq\n",
    "    else:\n",
    "        k = round(1 + np.log2(len(tabela[f'{coluna}']))) # número de classes\n",
    "        lsup = tabela[f'{coluna}'].max() # limite superior\n",
    "        linf = tabela[f'{coluna}'].min() # limite inferior\n",
    "        amplitude = lsup - linf # amplitude\n",
    "        intervalo = amplitude/k # intervalo\n",
    "        classes = []\n",
    "        for i in range(k):\n",
    "            classes.append(round(linf + i*intervalo, 2))\n",
    "\n",
    "        labels = []\n",
    "        for i in range(len(classes)-1):\n",
    "            labels.append(f'{classes[i]} a {classes[i+1]}')\n",
    "\n",
    "        frequencia = pd.value_counts(pd.cut(x=tabela[f'{coluna}'], bins=classes, labels=labels, include_lowest=True), sort=False)\n",
    "        percentual = pd.value_counts(pd.cut(x = tabela[f'{coluna}'],bins = classes, labels = labels,include_lowest = True), normalize = True, sort=False)*100\n",
    "        freq_acum = percentual.cumsum()\n",
    "\n",
    "        dist_freq = pd.DataFrame({'Frequência Absoluta': frequencia, 'Frequência Relativa': round(percentual,2), 'Frequência Acumulada': round(freq_acum,2)})\n",
    "        return dist_freq"
   ]
  },
  {
   "cell_type": "markdown",
   "metadata": {},
   "source": [
    "##### Questão 1) Com base na tabela do livro, responda:\n",
    "- a) Qual a média de erros por página?\n",
    "- b) Qual a mediana de erros por página?\n",
    "- c) Qual o desvio padrão de erros por página?\n",
    "- d) Fazer representação gráfica para a distribuição\n",
    "- e) Se o livro tivesse  500 páginas, qual o total de erros esperados?"
   ]
  },
  {
   "cell_type": "code",
   "execution_count": 3,
   "metadata": {},
   "outputs": [],
   "source": [
    "conjunto = [0]*25 + [1]*20 + [2]*3 + [3]*1 + [4]*1"
   ]
  },
  {
   "cell_type": "markdown",
   "metadata": {},
   "source": [
    "- a) Média"
   ]
  },
  {
   "cell_type": "code",
   "execution_count": 4,
   "metadata": {},
   "outputs": [
    {
     "data": {
      "text/plain": [
       "0.66"
      ]
     },
     "execution_count": 4,
     "metadata": {},
     "output_type": "execute_result"
    }
   ],
   "source": [
    "np.mean(conjunto)"
   ]
  },
  {
   "cell_type": "markdown",
   "metadata": {},
   "source": [
    "- b) Mediana"
   ]
  },
  {
   "cell_type": "code",
   "execution_count": 5,
   "metadata": {},
   "outputs": [
    {
     "data": {
      "text/plain": [
       "0.66"
      ]
     },
     "execution_count": 5,
     "metadata": {},
     "output_type": "execute_result"
    }
   ],
   "source": [
    "np.mean(conjunto)"
   ]
  },
  {
   "cell_type": "markdown",
   "metadata": {},
   "source": [
    "- C) Desvio Padrão"
   ]
  },
  {
   "cell_type": "code",
   "execution_count": 6,
   "metadata": {},
   "outputs": [
    {
     "data": {
      "text/plain": [
       "0.8392854103342915"
      ]
     },
     "execution_count": 6,
     "metadata": {},
     "output_type": "execute_result"
    }
   ],
   "source": [
    "np.std(conjunto)"
   ]
  },
  {
   "cell_type": "markdown",
   "metadata": {},
   "source": [
    "- d) Gráfico"
   ]
  },
  {
   "cell_type": "code",
   "execution_count": 7,
   "metadata": {},
   "outputs": [
    {
     "data": {
      "image/png": "[encoded data removed]",
      "text/plain": [
       "<Figure size 640x480 with 1 Axes>"
      ]
     },
     "metadata": {},
     "output_type": "display_data"
    }
   ],
   "source": [
    "sns.histplot(conjunto)\n",
    "plt.show()"
   ]
  },
  {
   "cell_type": "markdown",
   "metadata": {},
   "source": [
    "##### Questão 2) Através do conjunto de taxas, calcular média, mediana e desvio padrão"
   ]
  },
  {
   "cell_type": "code",
   "execution_count": 8,
   "metadata": {},
   "outputs": [],
   "source": [
    "juros = [2.59, 2.64, 2.60, 2.62, 2.57, 2.55, 2.61, 2.50, 2.63, 2.64]"
   ]
  },
  {
   "cell_type": "code",
   "execution_count": 9,
   "metadata": {},
   "outputs": [
    {
     "name": "stdout",
     "output_type": "stream",
     "text": [
      "Média = 2.5949999999999998\n",
      "Mediana = 2.605\n",
      "Desvio-padrão = 0.042249260348555265\n"
     ]
    }
   ],
   "source": [
    "print(f'Média = {np.mean(juros)}')\n",
    "print(f'Mediana = {np.median(juros)}')\n",
    "print(f'Desvio-padrão = {np.std(juros)}')"
   ]
  },
  {
   "cell_type": "markdown",
   "metadata": {},
   "source": [
    "##### Questão 3) Através do conjunto, a) construir histograma com 5 intervalos e b) determinar uma medida de posição central e uma de dispersão"
   ]
  },
  {
   "cell_type": "code",
   "execution_count": 10,
   "metadata": {},
   "outputs": [],
   "source": [
    "casas = [2, 2, 3, 10, 13, 14, 15, 15, 16, 16,\n",
    "        18, 18, 20, 21, 22, 22, 23, 24, 25, 25,\n",
    "        26, 27, 29, 29, 30, 32, 36, 42, 44, 45,\n",
    "        45, 46, 48, 52, 58, 59, 61, 61, 61, 65,\n",
    "        66, 66, 68, 75, 78, 80, 89, 90, 92, 97]"
   ]
  },
  {
   "cell_type": "code",
   "execution_count": 11,
   "metadata": {},
   "outputs": [
    {
     "data": {
      "image/png": "[encoded data removed]",
      "text/plain": [
       "<Figure size 640x480 with 1 Axes>"
      ]
     },
     "metadata": {},
     "output_type": "display_data"
    }
   ],
   "source": [
    "sns.histplot(casas, bins=5)\n",
    "plt.show()"
   ]
  },
  {
   "cell_type": "code",
   "execution_count": 12,
   "metadata": {},
   "outputs": [
    {
     "name": "stdout",
     "output_type": "stream",
     "text": [
      "40.42\n",
      "25.814794207973073\n"
     ]
    }
   ],
   "source": [
    "print(np.mean(casas))\n",
    "print(np.std(casas))"
   ]
  },
  {
   "cell_type": "markdown",
   "metadata": {},
   "source": [
    "##### Questão  6) Através do conjunto de filhos por familia, responda:\n",
    "- a) Qual a mediana?\n",
    "- b) qual a moda?\n",
    "- c) Qual a média?"
   ]
  },
  {
   "cell_type": "code",
   "execution_count": 13,
   "metadata": {},
   "outputs": [],
   "source": [
    "filhos = [0]*17 + [1]*20 + [2]*28 + [3]*19 + [4]*7 + [5]*5"
   ]
  },
  {
   "cell_type": "code",
   "execution_count": 14,
   "metadata": {},
   "outputs": [
    {
     "data": {
      "text/plain": [
       "1.9375"
      ]
     },
     "execution_count": 14,
     "metadata": {},
     "output_type": "execute_result"
    }
   ],
   "source": [
    "np.mean(filhos)"
   ]
  },
  {
   "cell_type": "markdown",
   "metadata": {},
   "source": [
    "#### 7) Obtenha o esquema dos cinco números para os dados do Problema 3. Calcule o intervalo interquartil e as dispersões inferior e superior. Baseado nessas medidas, verifique se a forma da distribuição dos dados é normal.\n",
    " x(1), q1, q2 , q3 e x(n)"
   ]
  },
  {
   "cell_type": "code",
   "execution_count": 15,
   "metadata": {},
   "outputs": [],
   "source": [
    "casas = [2, 2, 3, 10, 13, 14, 15, 15, 16, 16,\n",
    "        18, 18, 20, 21, 22, 22, 23, 24, 25, 25,\n",
    "        26, 27, 29, 29, 30, 32, 36, 42, 44, 45,\n",
    "        45, 46, 48, 52, 58, 59, 61, 61, 61, 65,\n",
    "        66, 66, 68, 75, 78, 80, 89, 90, 92, 97]"
   ]
  },
  {
   "cell_type": "code",
   "execution_count": 16,
   "metadata": {},
   "outputs": [
    {
     "name": "stdout",
     "output_type": "stream",
     "text": [
      "x(1): 2\n",
      "Q1: 20.25\n",
      "Q2: 31.0\n",
      "Q3: 61.0\n",
      "x(n): 97\n",
      "Distância interquartil: 40.75\n",
      "Dispersão inferior: 18.25\n",
      "Dispersão superior: 36.0\n",
      "não é normal!\n"
     ]
    }
   ],
   "source": [
    "x0 = casas[0]\n",
    "print(f'x(1): {x0}')\n",
    "q1 = np.quantile(casas, 0.25)\n",
    "print(f'Q1: {q1}')\n",
    "q2 = np.quantile(casas, 0.5)\n",
    "print(f'Q2: {q2}')\n",
    "q3 = np.quantile(casas, 0.75)\n",
    "print(f'Q3: {q3}')\n",
    "xn = casas[-1]\n",
    "print(f'x(n): {xn}')\n",
    "\n",
    "print(f'Distância interquartil: {q3 - q1}')\n",
    "print(f'Dispersão inferior: {q1-x0}')\n",
    "print(f'Dispersão superior: {xn-q3}')\n",
    "\n",
    "print('não é normal!')\n"
   ]
  },
  {
   "cell_type": "markdown",
   "metadata": {},
   "source": [
    "#### 8)Refaça o problema anterior, utilizando desta vez os dados do Problema 5 do Capítulo 2.\n",
    "Tabela 2.1\n",
    "(a) Estado civil.\n",
    "(b) Região de procedência.\n",
    "(c) Número de filhos dos empregados casados.\n",
    "(d) Idade."
   ]
  },
  {
   "cell_type": "code",
   "execution_count": 17,
   "metadata": {},
   "outputs": [],
   "source": [
    "tabela21 = pd.read_excel('dados/Dados_EB.xls', sheet_name='Tabela 2.1')\n",
    "tabela21.rename(columns=tabela21.iloc[0],inplace=True)\n",
    "tabela21.drop(tabela21.index[0], inplace=True)\n",
    "tabela21 = tabela21.reset_index(drop=True)"
   ]
  },
  {
   "cell_type": "code",
   "execution_count": 18,
   "metadata": {},
   "outputs": [
    {
     "name": "stdout",
     "output_type": "stream",
     "text": [
      "Estado Civil\n",
      "Região de Procedência\n",
      "Anos\n"
     ]
    }
   ],
   "source": [
    "for coluna in tabela21[['Estado Civil', 'Região de Procedência', 'Anos']]:\n",
    "    print(coluna)"
   ]
  },
  {
   "cell_type": "code",
   "execution_count": 19,
   "metadata": {},
   "outputs": [
    {
     "name": "stdout",
     "output_type": "stream",
     "text": [
      "x(1): 2.5\n",
      "Q1: 2.5749999999999997\n",
      "Q2: 2.605\n",
      "Q3: 2.6275\n",
      "x(n): 2.64\n",
      "Distância interquartil: 0.05250000000000021\n",
      "Dispersão inferior: 0.07499999999999973\n",
      "Dispersão superior: 0.012500000000000178\n",
      "não é normal!\n"
     ]
    }
   ],
   "source": [
    "x0 = sorted(juros)[0]\n",
    "print(f'x(1): {x0}')\n",
    "q1 = np.quantile(sorted(juros), 0.25)\n",
    "print(f'Q1: {q1}')\n",
    "q2 = np.quantile(sorted(juros), 0.5)\n",
    "print(f'Q2: {q2}')\n",
    "q3 = np.quantile(sorted(juros), 0.75)\n",
    "print(f'Q3: {q3}')\n",
    "xn = sorted(juros)[-1]\n",
    "print(f'x(n): {xn}')\n",
    "\n",
    "print(f'Distância interquartil: {q3 - q1}')\n",
    "print(f'Dispersão inferior: {q1-x0}')\n",
    "print(f'Dispersão superior: {xn-q3}')\n",
    "\n",
    "print('não é normal!')\n"
   ]
  },
  {
   "cell_type": "markdown",
   "metadata": {},
   "source": [
    "##### 9) Obter os três quartis, q(0,1) e q(0,90) para os dados do Problema 3."
   ]
  },
  {
   "cell_type": "code",
   "execution_count": 21,
   "metadata": {},
   "outputs": [],
   "source": [
    "casas = [2, 2, 3, 10, 13, 14, 15, 15, 16, 16,\n",
    "        18, 18, 20, 21, 22, 22, 23, 24, 25, 25,\n",
    "        26, 27, 29, 29, 30, 32, 36, 42, 44, 45,\n",
    "        45, 46, 48, 52, 58, 59, 61, 61, 61, 65,\n",
    "        66, 66, 68, 75, 78, 80, 89, 90, 92, 97]"
   ]
  },
  {
   "cell_type": "code",
   "execution_count": 24,
   "metadata": {},
   "outputs": [
    {
     "name": "stdout",
     "output_type": "stream",
     "text": [
      "D1: 13.9\n",
      "Q1: 20.25\n",
      "Q2: 31.0\n",
      "Q3: 61.0\n",
      "D90: 78.2\n"
     ]
    }
   ],
   "source": [
    "d1 = np.quantile(sorted(casas), 0.1)\n",
    "print(f'D1: {d1}')\n",
    "q1 = np.quantile(sorted(casas), 0.25)\n",
    "print(f'Q1: {q1}')\n",
    "q2 = np.quantile(sorted(casas), 0.5)\n",
    "print(f'Q2: {q2}')\n",
    "q3 = np.quantile(sorted(casas), 0.75)\n",
    "print(f'Q3: {q3}')\n",
    "d90 = np.quantile(sorted(casas), 0.90)\n",
    "print(f'D90: {d90}')"
   ]
  },
  {
   "cell_type": "markdown",
   "metadata": {},
   "source": [
    "#### 10) Para a variável população urbana do CD-Brasil, obtenha q(0,10), q(0,25), q(0,50), q(0,75), q(0,80) e q(0,95)"
   ]
  },
  {
   "cell_type": "code",
   "execution_count": 25,
   "metadata": {},
   "outputs": [],
   "source": [
    "def typecast_float(value):\n",
    "    try:\n",
    "        return float(value.replace(',', ''))\n",
    "    except:\n",
    "        return value\n",
    "\n",
    "CDBrasil = pd.read_excel('dados/Dados_EB.xls', sheet_name='CD-Brasil', converters={'Unnamed: 2': typecast_float, 'Unnamed: 3': typecast_float}) \n",
    "\n",
    "CDBrasil.rename(columns=CDBrasil.iloc[3],inplace=True)\n",
    "CDBrasil.drop(CDBrasil.index[0:4], inplace=True)\n",
    "CDBrasil = CDBrasil.reset_index(drop=True)\n",
    "CDBrasil.columns.values[0] = 'Região'\n",
    "CDBrasil.columns.values[1] = 'Estado'\n",
    "CDBrasil['Região'] = CDBrasil['Região'].astype(str)\n",
    "# preencher valores vazios com o valor da célula acima\n",
    "\n",
    "for i in range(0, len(CDBrasil)):\n",
    "    if CDBrasil.iloc[i,0] == 'nan':\n",
    "        CDBrasil.iloc[i,0] = CDBrasil.iloc[i-1,0]\n",
    "    else:\n",
    "        continue"
   ]
  },
  {
   "cell_type": "code",
   "execution_count": 29,
   "metadata": {},
   "outputs": [
    {
     "name": "stdout",
     "output_type": "stream",
     "text": [
      "D1: 1285652.8\n",
      "Q1: 2854642.0\n",
      "Q2: 5866487.0\n",
      "Q3: 14080670.0\n",
      "D90: 15100796.8\n",
      "D90: 62070805.99999996\n"
     ]
    }
   ],
   "source": [
    "d1 = np.quantile(sorted(CDBrasil['População']), 0.1)\n",
    "print(f'D1: {d1}')\n",
    "q1 = np.quantile(sorted(CDBrasil['População']), 0.25)\n",
    "print(f'Q1: {q1}')\n",
    "q2 = np.quantile(sorted(CDBrasil['População']), 0.5)\n",
    "print(f'Q2: {q2}')\n",
    "q3 = np.quantile(sorted(CDBrasil['População']), 0.75)\n",
    "print(f'Q3: {q3}')\n",
    "d80 = np.quantile(sorted(CDBrasil['População']), 0.80)\n",
    "print(f'D90: {d80}')\n",
    "d95 = np.quantile(sorted(CDBrasil['População']), 0.95)\n",
    "print(f'D90: {d95}')"
   ]
  },
  {
   "cell_type": "markdown",
   "metadata": {},
   "source": [
    "#### 11. Construa o box plot para os dados do Exemplo 2.3, Capítulo 2. O que você pode con\u0002cluir a respeito da distribuição?"
   ]
  },
  {
   "cell_type": "code",
   "execution_count": 4,
   "metadata": {},
   "outputs": [],
   "source": [
    "tabela21 = pd.read_excel('dados/Dados_EB.xls', sheet_name='Tabela 2.1')\n",
    "\n",
    "tabela21.rename(columns=tabela21.iloc[0],inplace=True)\n",
    "tabela21.drop(tabela21.index[0], inplace=True)\n",
    "tabela21 = tabela21.reset_index(drop=True)"
   ]
  },
  {
   "cell_type": "code",
   "execution_count": 12,
   "metadata": {},
   "outputs": [
    {
     "data": {
      "image/png": "[encoded data removed]",
      "text/plain": [
       "<Figure size 640x480 with 1 Axes>"
      ]
     },
     "metadata": {},
     "output_type": "display_data"
    }
   ],
   "source": [
    "#boxplot vertical\n",
    "plt.boxplot(tabela21['Salario (x Sal Min)'], vert=True)\n",
    "plt.show()"
   ]
  },
  {
   "cell_type": "markdown",
   "metadata": {},
   "source": [
    "#### 12) Refaça a questão anterior com os dados do Problema 3 deste capítulo.\n"
   ]
  },
  {
   "cell_type": "code",
   "execution_count": 13,
   "metadata": {},
   "outputs": [],
   "source": [
    "casas = [2, 2, 3, 10, 13, 14, 15, 15, 16, 16,\n",
    "        18, 18, 20, 21, 22, 22, 23, 24, 25, 25,\n",
    "        26, 27, 29, 29, 30, 32, 36, 42, 44, 45,\n",
    "        45, 46, 48, 52, 58, 59, 61, 61, 61, 65,\n",
    "        66, 66, 68, 75, 78, 80, 89, 90, 92, 97]"
   ]
  },
  {
   "cell_type": "code",
   "execution_count": 14,
   "metadata": {},
   "outputs": [
    {
     "data": {
      "image/png": "[encoded data removed]",
      "text/plain": [
       "<Figure size 640x480 with 1 Axes>"
      ]
     },
     "metadata": {},
     "output_type": "display_data"
    }
   ],
   "source": [
    "#boxplot vertical\n",
    "plt.boxplot(casas, vert=True)\n",
    "plt.show()"
   ]
  },
  {
   "cell_type": "markdown",
   "metadata": {},
   "source": [
    "#### 13. Faça um box plot para o Problema 10. Comente sobre a simetria, caudas e presença de valores atípicos."
   ]
  },
  {
   "cell_type": "code",
   "execution_count": 15,
   "metadata": {},
   "outputs": [],
   "source": [
    "def typecast_float(value):\n",
    "    try:\n",
    "        return float(value.replace(',', ''))\n",
    "    except:\n",
    "        return value\n",
    "\n",
    "CDBrasil = pd.read_excel('dados/Dados_EB.xls', sheet_name='CD-Brasil', converters={'Unnamed: 2': typecast_float, 'Unnamed: 3': typecast_float}) \n",
    "\n",
    "CDBrasil.rename(columns=CDBrasil.iloc[3],inplace=True)\n",
    "CDBrasil.drop(CDBrasil.index[0:4], inplace=True)\n",
    "CDBrasil = CDBrasil.reset_index(drop=True)\n",
    "CDBrasil.columns.values[0] = 'Região'\n",
    "CDBrasil.columns.values[1] = 'Estado'\n",
    "CDBrasil['Região'] = CDBrasil['Região'].astype(str)\n",
    "# preencher valores vazios com o valor da célula acima\n",
    "\n",
    "for i in range(0, len(CDBrasil)):\n",
    "    if CDBrasil.iloc[i,0] == 'nan':\n",
    "        CDBrasil.iloc[i,0] = CDBrasil.iloc[i-1,0]\n",
    "    else:\n",
    "        continue"
   ]
  },
  {
   "cell_type": "code",
   "execution_count": 23,
   "metadata": {},
   "outputs": [
    {
     "data": {
      "image/png": "[encoded data removed]",
      "text/plain": [
       "<Figure size 640x480 with 1 Axes>"
      ]
     },
     "metadata": {},
     "output_type": "display_data"
    }
   ],
   "source": [
    "plt.boxplot(CDBrasil['População'], vert=True)\n",
    "plt.show()"
   ]
  }
 ],
 "metadata": {
  "kernelspec": {
   "display_name": "Python 3.9.7 ('base')",
   "language": "python",
   "name": "python3"
  },
  "language_info": {
   "codemirror_mode": {
    "name": "ipython",
    "version": 3
   },
   "file_extension": ".py",
   "mimetype": "text/x-python",
   "name": "python",
   "nbconvert_exporter": "python",
   "pygments_lexer": "ipython3",
   "version": "3.9.7"
  },
  "orig_nbformat": 4,
  "vscode": {
   "interpreter": {
    "hash": "08a400adeb6830322ec40344573c657b15a9eb2eef6e1c7ab2815bda50c98d3e"
   }
  }
 },
 "nbformat": 4,
 "nbformat_minor": 2
}
